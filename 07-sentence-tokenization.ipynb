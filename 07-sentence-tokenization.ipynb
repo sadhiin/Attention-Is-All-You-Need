{
 "cells": [
  {
   "cell_type": "code",
   "execution_count": 2,
   "metadata": {},
   "outputs": [],
   "source": [
    "import numpy as np\n",
    "import torch"
   ]
  },
  {
   "cell_type": "code",
   "execution_count": 9,
   "metadata": {},
   "outputs": [],
   "source": [
    "START_TOKEN = ''\n",
    "PADDING_TOKEN = ''\n",
    "END_TOKEN = ''\n",
    "\n",
    "bangla_vocabulary = [START_TOKEN, ' ', '!', '\"', '#', '$', '%', '&', \"'\", '(', ')', '*', '+', ',', '-', '.', '/','০', '১', '২', '৩', '৪', '৫', '৬', '৭', '৮', '৯', ':', '<', '=', '>', '?', '@',\n",
    "                     'অ', 'আ', 'ই', 'ঈ', 'উ', 'ঊ', 'ঋ', 'ঌ', 'এ', 'ঐ', 'ও', 'ঔ',\n",
    "                     'ক', 'খ', 'গ', 'ঘ', 'ঙ',\n",
    "                     'চ', 'ছ', 'জ', 'ঝ', 'ঞ',\n",
    "                     'ট', 'ঠ', 'ড', 'ঢ', 'ণ',\n",
    "                     'ত', 'থ', 'দ', 'ধ', 'ন',\n",
    "                     'প', 'ফ', 'ব', 'ভ', 'ম',\n",
    "                     'য', 'র', 'ল', 'শ', 'ষ', 'স', 'হ',\n",
    "                     'ড়', 'ঢ়', 'য়', 'ঃ', 'ং',\n",
    "                     'ো', 'ৌ', 'ৗ', 'ৎ', 'ী', 'ু', 'ূ', 'ৃ', 'ৄ', 'ে', 'ৈ', '৊', 'ো', 'ৌ',\n",
    "                     'ু', 'ঁ', 'ঞ্', 'ৎ', 'ঊ', 'ঁ', 'া', 'ট', 'া',\n",
    "\n",
    "\n",
    "                    #  'কি', 'কা', 'থেকে', 'হওয়া', 'কি', 'ক', 'কা', 'কতরকম'\n",
    "                     PADDING_TOKEN, END_TOKEN]\n",
    "\n",
    "\n",
    "\n",
    "english_vocabulary = [START_TOKEN, ' ', '!', '\"', '#', '$', '%', '&', \"'\", '(', ')', '*', '+', ',', '-', '.', '/', '0', '1', '2', '3', '4', '5', '6', '7', '8', '9', ':', '<', '=', '>', '?', '@', 'A', 'B', 'C', 'D', 'E', 'F', 'G', 'H', 'I', 'J', 'K', 'L', 'M', 'N', 'O', 'P', 'Q', 'R', 'S', 'T', 'U', 'V', 'W', 'X', 'Y', 'Z', '[', '', ']', '^', '_', '`', 'a', 'b', 'c', 'd', 'e', 'f', 'g', 'h', 'i', 'j', 'k', 'l', 'm', 'n', 'o', 'p', 'q', 'r', 's', 't', 'u', 'v', 'w', 'x', 'y', 'z', '{', '|', '}', '~', PADDING_TOKEN, END_TOKEN]"
   ]
  },
  {
   "cell_type": "code",
   "execution_count": 10,
   "metadata": {},
   "outputs": [
    {
     "data": {
      "text/plain": [
       "5"
      ]
     },
     "execution_count": 10,
     "metadata": {},
     "output_type": "execute_result"
    }
   ],
   "source": [
    "txt = 'হওয়া'\n",
    "len(txt)"
   ]
  },
  {
   "cell_type": "code",
   "execution_count": 11,
   "metadata": {},
   "outputs": [
    {
     "data": {
      "text/plain": [
       "'ঈী'"
      ]
     },
     "execution_count": 11,
     "metadata": {},
     "output_type": "execute_result"
    }
   ],
   "source": [
    "'ঈ'+'ী'"
   ]
  },
  {
   "cell_type": "code",
   "execution_count": 12,
   "metadata": {},
   "outputs": [],
   "source": [
    "index_to_bangla = {k:v for k,v in enumerate(bangla_vocabulary)}\n",
    "bangla_to_index = {v:k for k,v in enumerate(bangla_vocabulary)}\n",
    "index_to_english = {k:v for k,v in enumerate(english_vocabulary)}\n",
    "english_to_index = {v:k for k,v in enumerate(english_vocabulary)}"
   ]
  },
  {
   "cell_type": "code",
   "execution_count": 13,
   "metadata": {},
   "outputs": [
    {
     "data": {
      "text/plain": [
       "{'': 106,\n",
       " ' ': 1,\n",
       " '!': 2,\n",
       " '\"': 3,\n",
       " '#': 4,\n",
       " '$': 5,\n",
       " '%': 6,\n",
       " '&': 7,\n",
       " \"'\": 8,\n",
       " '(': 9,\n",
       " ')': 10,\n",
       " '*': 11,\n",
       " '+': 12,\n",
       " ',': 13,\n",
       " '-': 14,\n",
       " '.': 15,\n",
       " '/': 16,\n",
       " '০': 17,\n",
       " '১': 18,\n",
       " '২': 19,\n",
       " '৩': 20,\n",
       " '৪': 21,\n",
       " '৫': 22,\n",
       " '৬': 23,\n",
       " '৭': 24,\n",
       " '৮': 25,\n",
       " '৯': 26,\n",
       " ':': 27,\n",
       " '<': 28,\n",
       " '=': 29,\n",
       " '>': 30,\n",
       " '?': 31,\n",
       " '@': 32,\n",
       " 'অ': 33,\n",
       " 'আ': 34,\n",
       " 'ই': 35,\n",
       " 'ঈ': 36,\n",
       " 'উ': 37,\n",
       " 'ঊ': 100,\n",
       " 'ঋ': 39,\n",
       " 'ঌ': 40,\n",
       " 'এ': 41,\n",
       " 'ঐ': 42,\n",
       " 'ও': 43,\n",
       " 'ঔ': 44,\n",
       " 'ক': 45,\n",
       " 'খ': 46,\n",
       " 'গ': 47,\n",
       " 'ঘ': 48,\n",
       " 'ঙ': 49,\n",
       " 'চ': 50,\n",
       " 'ছ': 51,\n",
       " 'জ': 52,\n",
       " 'ঝ': 53,\n",
       " 'ঞ': 54,\n",
       " 'ট': 103,\n",
       " 'ঠ': 56,\n",
       " 'ড': 57,\n",
       " 'ঢ': 58,\n",
       " 'ণ': 59,\n",
       " 'ত': 60,\n",
       " 'থ': 61,\n",
       " 'দ': 62,\n",
       " 'ধ': 63,\n",
       " 'ন': 64,\n",
       " 'প': 65,\n",
       " 'ফ': 66,\n",
       " 'ব': 67,\n",
       " 'ভ': 68,\n",
       " 'ম': 69,\n",
       " 'য': 70,\n",
       " 'র': 71,\n",
       " 'ল': 72,\n",
       " 'শ': 73,\n",
       " 'ষ': 74,\n",
       " 'স': 75,\n",
       " 'হ': 76,\n",
       " 'ড়': 77,\n",
       " 'ঢ়': 78,\n",
       " 'য়': 79,\n",
       " 'ঃ': 80,\n",
       " 'ং': 81,\n",
       " 'ো': 94,\n",
       " 'ৌ': 95,\n",
       " 'ৗ': 84,\n",
       " 'ৎ': 99,\n",
       " 'ী': 86,\n",
       " 'ু': 96,\n",
       " 'ূ': 88,\n",
       " 'ৃ': 89,\n",
       " 'ৄ': 90,\n",
       " 'ে': 91,\n",
       " 'ৈ': 92,\n",
       " '\\u09ca': 93,\n",
       " 'ঁ': 101,\n",
       " 'ঞ্': 98,\n",
       " 'া': 104}"
      ]
     },
     "execution_count": 13,
     "metadata": {},
     "output_type": "execute_result"
    }
   ],
   "source": [
    "bangla_to_index"
   ]
  },
  {
   "cell_type": "code",
   "execution_count": null,
   "metadata": {},
   "outputs": [],
   "source": [
    "bn_url = 'https://raw.githubusercontent.com/google-research/url-nlp/refs/heads/main/mgsm/mgsm_bn.tsv'\n",
    "en_url = 'https://raw.githubusercontent.com/google-research/url-nlp/refs/heads/main/mgsm/mgsm_en.tsv'"
   ]
  },
  {
   "cell_type": "code",
   "execution_count": null,
   "metadata": {},
   "outputs": [],
   "source": [
    "import pandas as pd"
   ]
  },
  {
   "cell_type": "code",
   "execution_count": null,
   "metadata": {},
   "outputs": [],
   "source": []
  },
  {
   "cell_type": "code",
   "execution_count": null,
   "metadata": {},
   "outputs": [],
   "source": []
  },
  {
   "cell_type": "code",
   "execution_count": null,
   "metadata": {},
   "outputs": [],
   "source": []
  },
  {
   "cell_type": "code",
   "execution_count": null,
   "metadata": {},
   "outputs": [],
   "source": []
  },
  {
   "cell_type": "code",
   "execution_count": null,
   "metadata": {},
   "outputs": [],
   "source": []
  }
 ],
 "metadata": {
  "kernelspec": {
   "display_name": "pytorch2.3",
   "language": "python",
   "name": "python3"
  },
  "language_info": {
   "codemirror_mode": {
    "name": "ipython",
    "version": 3
   },
   "file_extension": ".py",
   "mimetype": "text/x-python",
   "name": "python",
   "nbconvert_exporter": "python",
   "pygments_lexer": "ipython3",
   "version": "3.11.0"
  }
 },
 "nbformat": 4,
 "nbformat_minor": 2
}
