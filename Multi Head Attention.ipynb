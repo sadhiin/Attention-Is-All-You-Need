{
 "cells": [
  {
   "cell_type": "code",
   "execution_count": 2,
   "metadata": {},
   "outputs": [],
   "source": [
    "import numpy as np\n",
    "import math\n",
    "import torch\n",
    "import torch.nn as nn\n",
    "import torch.nn.functional as F\n"
   ]
  },
  {
   "cell_type": "code",
   "execution_count": 3,
   "metadata": {},
   "outputs": [
    {
     "name": "stdout",
     "output_type": "stream",
     "text": [
      "torch.Size([2, 4, 512])\n"
     ]
    }
   ],
   "source": [
    "seq_len = 4\n",
    "batch_size = 2\n",
    "input_dim = 512\n",
    "d_model = 512\n",
    "\n",
    "x = torch.randn(batch_size, seq_len, input_dim)\n",
    "print(x.shape)"
   ]
  },
  {
   "cell_type": "code",
   "execution_count": 4,
   "metadata": {},
   "outputs": [],
   "source": [
    "qkv_layer = nn.Linear(input_dim, 3 * d_model)"
   ]
  },
  {
   "cell_type": "code",
   "execution_count": 5,
   "metadata": {},
   "outputs": [
    {
     "data": {
      "text/plain": [
       "torch.Size([2, 4, 1536])"
      ]
     },
     "execution_count": 5,
     "metadata": {},
     "output_type": "execute_result"
    }
   ],
   "source": [
    "qkv= qkv_layer(x)\n",
    "qkv.shape   # (batch_size, seq_len, 3 * d_model)"
   ]
  },
  {
   "cell_type": "code",
   "execution_count": 15,
   "metadata": {},
   "outputs": [
    {
     "data": {
      "text/plain": [
       "Text(0.5, 1.0, 'qkv distribution')"
      ]
     },
     "execution_count": 15,
     "metadata": {},
     "output_type": "execute_result"
    },
    {
     "data": {
      "image/png": "[encoded data removed]",
      "text/plain": [
       "<Figure size 640x480 with 1 Axes>"
      ]
     },
     "metadata": {},
     "output_type": "display_data"
    }
   ],
   "source": [
    "import matplotlib.pyplot as plt\n",
    "y_val = torch.histc(qkv, bins=200, min=-3, max=3)\n",
    "x_val = np.arange(-1, 1, 0.01) * 3\n",
    "\n",
    "\n",
    "plt.bar(x_val, y_val, align='center', color=['blue'])\n",
    "plt.title('qkv distribution')"
   ]
  },
  {
   "cell_type": "code",
   "execution_count": 17,
   "metadata": {},
   "outputs": [
    {
     "data": {
      "text/plain": [
       "torch.Size([2, 4, 8, 192])"
      ]
     },
     "execution_count": 17,
     "metadata": {},
     "output_type": "execute_result"
    }
   ],
   "source": [
    "num_heads = 8\n",
    "head_dim = d_model // num_heads\n",
    "qkv = qkv.reshape(batch_size, seq_len, num_heads, 3 * head_dim)\n",
    "\n",
    "qkv.shape"
   ]
  },
  {
   "cell_type": "code",
   "execution_count": 18,
   "metadata": {},
   "outputs": [
    {
     "data": {
      "text/plain": [
       "torch.Size([2, 8, 4, 192])"
      ]
     },
     "execution_count": 18,
     "metadata": {},
     "output_type": "execute_result"
    }
   ],
   "source": [
    "# reshape qkv to (batch_size, num_heads, seq_len, head_dim)\n",
    "qkv = qkv.permute(0, 2, 1, 3)\n",
    "qkv.shape"
   ]
  },
  {
   "cell_type": "code",
   "execution_count": 19,
   "metadata": {},
   "outputs": [
    {
     "data": {
      "text/plain": [
       "(torch.Size([2, 8, 4, 64]),\n",
       " torch.Size([2, 8, 4, 64]),\n",
       " torch.Size([2, 8, 4, 64]))"
      ]
     },
     "execution_count": 19,
     "metadata": {},
     "output_type": "execute_result"
    }
   ],
   "source": [
    "q, k, v = qkv.chunk(3, dim=-1) # chunking on the last dimension 192/3 = 64\n",
    "q.shape, k.shape, v.shape"
   ]
  },
  {
   "cell_type": "markdown",
   "metadata": {},
   "source": [
    "# self attention for Multi-Head"
   ]
  },
  {
   "cell_type": "code",
   "execution_count": 20,
   "metadata": {},
   "outputs": [
    {
     "name": "stdout",
     "output_type": "stream",
     "text": [
      "Dk:  64\n"
     ]
    },
    {
     "data": {
      "text/plain": [
       "torch.Size([2, 8, 4, 4])"
      ]
     },
     "execution_count": 20,
     "metadata": {},
     "output_type": "execute_result"
    }
   ],
   "source": [
    "d_k = q.size()[-1]\n",
    "print('Dk: ', d_k)\n",
    "scaled = torch.matmul(q, k.transpose(-2, -1)) / math.sqrt(d_k)\n",
    "\n",
    "scaled.shape"
   ]
  },
  {
   "cell_type": "code",
   "execution_count": 22,
   "metadata": {},
   "outputs": [
    {
     "name": "stdout",
     "output_type": "stream",
     "text": [
      "K shape:  torch.Size([2, 8, 4, 64])\n",
      "K transpose:  torch.Size([64, 4, 8, 2])\n"
     ]
    }
   ],
   "source": [
    "print('K shape: ', k.shape)\n",
    "print('K transpose: ', k.T.shape)"
   ]
  },
  {
   "cell_type": "code",
   "execution_count": 23,
   "metadata": {},
   "outputs": [
    {
     "data": {
      "text/plain": [
       "tensor([[-1.2148,  0.6919],\n",
       "        [-0.1731,  0.1219],\n",
       "        [ 1.2965, -0.8282]])"
      ]
     },
     "execution_count": 23,
     "metadata": {},
     "output_type": "execute_result"
    }
   ],
   "source": [
    "y = torch.randn(2, 3)\n",
    "torch.transpose(y, 0, 1)"
   ]
  },
  {
   "cell_type": "code",
   "execution_count": 24,
   "metadata": {},
   "outputs": [
    {
     "data": {
      "text/plain": [
       "tensor([[-1.2148,  0.6919],\n",
       "        [-0.1731,  0.1219],\n",
       "        [ 1.2965, -0.8282]])"
      ]
     },
     "execution_count": 24,
     "metadata": {},
     "output_type": "execute_result"
    }
   ],
   "source": [
    "torch.transpose(y, 1, 0)"
   ]
  },
  {
   "cell_type": "code",
   "execution_count": 25,
   "metadata": {},
   "outputs": [
    {
     "name": "stdout",
     "output_type": "stream",
     "text": [
      "torch.Size([2, 8, 4, 64])\n",
      "torch.Size([64, 4, 8, 2])\n"
     ]
    }
   ],
   "source": [
    "print(k.shape)\n",
    "print(k.T.shape)"
   ]
  },
  {
   "cell_type": "code",
   "execution_count": 27,
   "metadata": {},
   "outputs": [],
   "source": [
    "# k.transpose(-1, -2) == k.transpose(-2, -1)"
   ]
  },
  {
   "cell_type": "code",
   "execution_count": 29,
   "metadata": {},
   "outputs": [
    {
     "data": {
      "text/plain": [
       "torch.Size([2, 8, 64, 4])"
      ]
     },
     "execution_count": 29,
     "metadata": {},
     "output_type": "execute_result"
    }
   ],
   "source": [
    "k.transpose(-1, -2).shape # this is the our expected shape for key"
   ]
  },
  {
   "cell_type": "code",
   "execution_count": 32,
   "metadata": {},
   "outputs": [
    {
     "data": {
      "text/plain": [
       "torch.Size([2, 8, 4, 4])"
      ]
     },
     "execution_count": 32,
     "metadata": {},
     "output_type": "execute_result"
    }
   ],
   "source": [
    "scaled.shape"
   ]
  },
  {
   "cell_type": "code",
   "execution_count": 37,
   "metadata": {},
   "outputs": [
    {
     "data": {
      "text/plain": [
       "tensor([[0., -inf, -inf, -inf],\n",
       "        [0., 0., -inf, -inf],\n",
       "        [0., 0., 0., -inf],\n",
       "        [0., 0., 0., 0.]])"
      ]
     },
     "execution_count": 37,
     "metadata": {},
     "output_type": "execute_result"
    }
   ],
   "source": [
    "mask = torch.full(scaled.shape, float('-inf')) # create a tensor with -inf\n",
    "mask = torch.triu(mask, diagonal=1) # zero out the lower diagonal\n",
    "mask[0][0]"
   ]
  },
  {
   "cell_type": "code",
   "execution_count": 38,
   "metadata": {},
   "outputs": [
    {
     "data": {
      "text/plain": [
       "tensor([[-0.4522,    -inf,    -inf,    -inf],\n",
       "        [ 0.4781, -0.2977,    -inf,    -inf],\n",
       "        [-0.1293,  0.2757, -0.3821,    -inf],\n",
       "        [ 0.3557, -0.2303,  0.1607,  0.2034]], grad_fn=<SelectBackward0>)"
      ]
     },
     "execution_count": 38,
     "metadata": {},
     "output_type": "execute_result"
    }
   ],
   "source": [
    "(scaled + mask)[0][0]"
   ]
  },
  {
   "cell_type": "code",
   "execution_count": 39,
   "metadata": {},
   "outputs": [
    {
     "data": {
      "text/plain": [
       "tensor([[-0.4522,    -inf,    -inf,    -inf],\n",
       "        [ 0.4781, -0.2977,    -inf,    -inf],\n",
       "        [-0.1293,  0.2757, -0.3821,    -inf],\n",
       "        [ 0.3557, -0.2303,  0.1607,  0.2034]], grad_fn=<SelectBackward0>)"
      ]
     },
     "execution_count": 39,
     "metadata": {},
     "output_type": "execute_result"
    }
   ],
   "source": [
    "scaled.add_(mask)\n",
    "scaled[0][0]"
   ]
  },
  {
   "cell_type": "code",
   "execution_count": 40,
   "metadata": {},
   "outputs": [],
   "source": [
    "attention = F.softmax(scaled, dim=-1)"
   ]
  },
  {
   "cell_type": "code",
   "execution_count": 43,
   "metadata": {},
   "outputs": [
    {
     "data": {
      "text/plain": [
       "torch.Size([2, 8, 4, 4])"
      ]
     },
     "execution_count": 43,
     "metadata": {},
     "output_type": "execute_result"
    }
   ],
   "source": [
    "attention.shape"
   ]
  },
  {
   "cell_type": "code",
   "execution_count": 45,
   "metadata": {},
   "outputs": [
    {
     "data": {
      "text/plain": [
       "tensor([[1.0000, 0.0000, 0.0000, 0.0000],\n",
       "        [0.6848, 0.3152, 0.0000, 0.0000],\n",
       "        [0.3053, 0.4577, 0.2371, 0.0000],\n",
       "        [0.3088, 0.1719, 0.2541, 0.2652]], grad_fn=<SelectBackward0>)"
      ]
     },
     "execution_count": 45,
     "metadata": {},
     "output_type": "execute_result"
    }
   ],
   "source": [
    "attention[0][0]"
   ]
  },
  {
   "cell_type": "code",
   "execution_count": 46,
   "metadata": {},
   "outputs": [
    {
     "data": {
      "text/plain": [
       "tensor([[1.0000, 0.0000, 0.0000, 0.0000],\n",
       "        [0.5555, 0.4445, 0.0000, 0.0000],\n",
       "        [0.3750, 0.2786, 0.3464, 0.0000],\n",
       "        [0.1832, 0.2953, 0.2218, 0.2997]], grad_fn=<SelectBackward0>)"
      ]
     },
     "execution_count": 46,
     "metadata": {},
     "output_type": "execute_result"
    }
   ],
   "source": [
    "attention[0][1]"
   ]
  },
  {
   "cell_type": "code",
   "execution_count": 49,
   "metadata": {},
   "outputs": [
    {
     "data": {
      "text/plain": [
       "torch.Size([2, 8, 4, 64])"
      ]
     },
     "execution_count": 49,
     "metadata": {},
     "output_type": "execute_result"
    }
   ],
   "source": [
    "v.shape"
   ]
  },
  {
   "cell_type": "code",
   "execution_count": 47,
   "metadata": {},
   "outputs": [
    {
     "data": {
      "text/plain": [
       "torch.Size([2, 8, 4, 64])"
      ]
     },
     "execution_count": 47,
     "metadata": {},
     "output_type": "execute_result"
    }
   ],
   "source": [
    "values = torch.matmul(attention, v)\n",
    "values.shape"
   ]
  },
  {
   "cell_type": "code",
   "execution_count": 52,
   "metadata": {},
   "outputs": [
    {
     "data": {
      "text/plain": [
       "tensor([ 0.1186, -0.6649,  0.1325,  0.0415, -0.1031,  0.1242,  0.3478,  0.0068,\n",
       "        -0.4013, -0.5121,  0.5378,  1.1685,  0.3112,  0.4116, -0.3756, -0.3707,\n",
       "         0.9274,  0.1766,  0.2467,  0.8220, -0.2806,  0.8744, -0.1558, -0.5661,\n",
       "        -0.4433, -0.1975,  0.8040, -0.4103,  0.5253, -0.0538, -0.2255,  0.2669,\n",
       "         0.5358,  0.1524, -0.4793, -0.7805, -0.2239, -0.4174, -0.2479,  0.1650,\n",
       "        -0.1780, -0.1634,  0.1852, -0.3613, -0.2637, -0.6689,  0.5874,  0.0755,\n",
       "        -0.2933, -0.0686, -0.2986,  0.1494,  0.5729, -0.2892,  0.4499,  0.3463,\n",
       "         0.1581,  0.2528,  0.6209, -0.4304,  0.0747, -0.1158,  0.3102,  0.5137],\n",
       "       grad_fn=<SelectBackward0>)"
      ]
     },
     "execution_count": 52,
     "metadata": {},
     "output_type": "execute_result"
    }
   ],
   "source": [
    "values[0][1][1]"
   ]
  },
  {
   "cell_type": "markdown",
   "metadata": {},
   "source": [
    "# Faction Implementation"
   ]
  },
  {
   "cell_type": "code",
   "execution_count": 53,
   "metadata": {},
   "outputs": [],
   "source": [
    "import math\n",
    "\n",
    "def scaled_dot_product(q, k, v, mask=None):\n",
    "    d_k = q.size()[-1]\n",
    "    scaled = torch.matmul(q, k.transpose(-1, -2)) / math.sqrt(d_k)\n",
    "    if mask is not None:\n",
    "        scaled += mask\n",
    "    attention = F.softmax(scaled, dim=-1)\n",
    "    values = torch.matmul(attention, v)\n",
    "    return values, attention"
   ]
  },
  {
   "cell_type": "code",
   "execution_count": 54,
   "metadata": {},
   "outputs": [],
   "source": [
    "values, attention = scaled_dot_product(q, k, v, mask=mask)"
   ]
  },
  {
   "cell_type": "code",
   "execution_count": 55,
   "metadata": {},
   "outputs": [
    {
     "data": {
      "text/plain": [
       "(torch.Size([2, 8, 4, 4]), torch.Size([2, 8, 4, 64]))"
      ]
     },
     "execution_count": 55,
     "metadata": {},
     "output_type": "execute_result"
    }
   ],
   "source": [
    "attention.shape, values.shape"
   ]
  },
  {
   "cell_type": "code",
   "execution_count": 57,
   "metadata": {},
   "outputs": [
    {
     "data": {
      "text/plain": [
       "tensor([[1.0000, 0.0000, 0.0000, 0.0000],\n",
       "        [0.6848, 0.3152, 0.0000, 0.0000],\n",
       "        [0.3053, 0.4577, 0.2371, 0.0000],\n",
       "        [0.3088, 0.1719, 0.2541, 0.2652]], grad_fn=<SelectBackward0>)"
      ]
     },
     "execution_count": 57,
     "metadata": {},
     "output_type": "execute_result"
    }
   ],
   "source": [
    "attention[0][0]"
   ]
  },
  {
   "cell_type": "code",
   "execution_count": 58,
   "metadata": {},
   "outputs": [
    {
     "data": {
      "text/plain": [
       "tensor([[-0.6852, -0.3242, -0.7971, -0.3984,  0.4359, -0.2210, -0.2523,  0.5205,\n",
       "          0.4092,  0.5594, -0.3456,  0.7310, -0.0219,  1.4205,  0.8356, -0.2581,\n",
       "         -0.2576, -0.1732,  0.6634,  0.0500,  0.3761, -0.2602,  0.7610, -0.5997,\n",
       "         -0.2990,  0.1505, -0.9446, -0.3265,  0.2506,  0.6285, -0.4878,  0.2138,\n",
       "         -0.9069,  0.2038,  0.2794,  0.4165, -0.5966, -0.6534, -0.9272, -1.0796,\n",
       "          0.3905,  0.1132,  0.4138,  0.3325, -1.2587, -0.7552,  0.5040, -0.4202,\n",
       "         -0.5931, -0.1967, -0.5153, -0.6308,  0.4748, -0.2482,  0.2130,  0.1514,\n",
       "          0.6684, -1.4787,  0.0515,  0.0211,  1.2472, -0.3427,  1.3741, -0.1664],\n",
       "        [-0.3384, -0.2668, -0.6970, -0.4283, -0.0406,  0.0854, -0.2727,  0.3568,\n",
       "          0.0465,  0.3050, -0.1806,  0.2830,  0.1451,  0.9886,  0.4912, -0.1916,\n",
       "          0.0816, -0.0195,  0.1905,  0.3585,  0.2618, -0.0241,  0.4258, -0.2988,\n",
       "         -0.4846,  0.3262, -0.6799, -0.5266,  0.3656,  0.4619, -0.3129,  0.0519,\n",
       "         -0.7759,  0.0415,  0.5906,  0.0372, -0.4532, -0.4106, -0.5037, -0.6221,\n",
       "          0.2962,  0.0317,  0.3200,  0.0555, -0.8152, -0.7289,  0.4661, -0.4141,\n",
       "         -0.3000, -0.3150, -0.2806, -0.5612,  0.0804, -0.2776, -0.0393, -0.1093,\n",
       "          0.2834, -0.9225, -0.0790, -0.2702,  0.4058, -0.0970,  0.7195, -0.1139],\n",
       "        [ 0.1794, -0.3527, -0.4896, -0.4916, -0.3371,  0.4582, -0.1219,  0.0992,\n",
       "         -0.3673,  0.3242,  0.1184, -0.0290,  0.3072,  0.4747, -0.0653, -0.2201,\n",
       "          0.1789,  0.3257,  0.0622,  0.4073,  0.1221,  0.2023,  0.2982, -0.0746,\n",
       "         -0.6779,  0.1317, -0.2654, -0.7220,  0.1659,  0.2819, -0.0577,  0.2477,\n",
       "         -0.4160, -0.2351,  0.7478, -0.4131, -0.1452, -0.0595,  0.0224, -0.3946,\n",
       "          0.0089,  0.0550, -0.1075, -0.1580, -0.3408, -0.5212,  0.1932, -0.2531,\n",
       "          0.0597, -0.2963, -0.0028, -0.6623, -0.1382, -0.2317, -0.2060, -0.0074,\n",
       "          0.0391, -0.4183, -0.3192, -0.4458, -0.1988, -0.0460, -0.0049, -0.2173],\n",
       "        [-0.1423, -0.2404, -0.4457, -0.1185, -0.2947,  0.4097,  0.2703, -0.0900,\n",
       "         -0.3350,  0.6091,  0.0563,  0.3805,  0.3435,  0.2993, -0.1153, -0.4092,\n",
       "          0.0265,  0.0767,  0.0410,  0.2385,  0.1274,  0.3038,  0.3698, -0.2598,\n",
       "         -0.2663, -0.0128, -0.1339, -0.3990, -0.1110,  0.0030, -0.4397,  0.1539,\n",
       "         -0.2454, -0.1376,  0.4377, -0.0226, -0.1197, -0.1413, -0.4065, -0.5764,\n",
       "          0.0270,  0.2085,  0.0641,  0.0667, -0.4147, -0.2692,  0.1440, -0.3669,\n",
       "          0.1567, -0.1646,  0.0113, -0.4704,  0.1748, -0.1012, -0.0417,  0.3015,\n",
       "          0.2492, -0.3823, -0.0974, -0.4692, -0.0432, -0.2395,  0.0652, -0.1515]],\n",
       "       grad_fn=<SelectBackward0>)"
      ]
     },
     "execution_count": 58,
     "metadata": {},
     "output_type": "execute_result"
    }
   ],
   "source": [
    "values[0][0]"
   ]
  },
  {
   "cell_type": "code",
   "execution_count": 59,
   "metadata": {},
   "outputs": [
    {
     "data": {
      "text/plain": [
       "torch.Size([2, 4, 512])"
      ]
     },
     "execution_count": 59,
     "metadata": {},
     "output_type": "execute_result"
    }
   ],
   "source": [
    "values = values.reshape(batch_size, seq_len, num_heads * head_dim)\n",
    "values.size()"
   ]
  },
  {
   "cell_type": "code",
   "execution_count": 60,
   "metadata": {},
   "outputs": [],
   "source": [
    "linear_layer = nn.Linear(d_model, d_model)"
   ]
  },
  {
   "cell_type": "code",
   "execution_count": 61,
   "metadata": {},
   "outputs": [
    {
     "data": {
      "text/plain": [
       "torch.Size([2, 4, 512])"
      ]
     },
     "execution_count": 61,
     "metadata": {},
     "output_type": "execute_result"
    }
   ],
   "source": [
    "output = linear_layer(values)\n",
    "output.shape"
   ]
  },
  {
   "cell_type": "code",
   "execution_count": 62,
   "metadata": {},
   "outputs": [
    {
     "data": {
      "text/plain": [
       "tensor([[[ 1.6101e-01, -6.0720e-01,  1.9144e-01,  ..., -1.3390e-01,\n",
       "          -3.6831e-01, -5.8063e-04],\n",
       "         [-1.1647e-01,  1.3904e-02,  2.4459e-01,  ..., -2.1115e-01,\n",
       "          -2.8213e-02, -6.4046e-02],\n",
       "         [-2.5698e-01,  4.5241e-01, -5.2568e-01,  ..., -4.1626e-01,\n",
       "           2.9022e-01,  4.4190e-01],\n",
       "         [ 1.8156e-01, -1.0956e-01, -3.7014e-01,  ..., -2.6277e-01,\n",
       "          -1.5252e-01,  1.0863e-01]],\n",
       "\n",
       "        [[ 1.2181e-01, -6.3141e-02,  1.4218e-01,  ...,  6.7876e-02,\n",
       "          -2.5063e-01, -2.0321e-01],\n",
       "         [-5.0939e-01,  1.7741e-01, -1.1340e-01,  ...,  2.6057e-01,\n",
       "          -2.8749e-01,  3.4406e-01],\n",
       "         [-4.6218e-01,  7.8600e-02, -3.4274e-01,  ...,  3.4189e-01,\n",
       "           1.3583e-01,  6.8985e-03],\n",
       "         [-3.9513e-01, -7.4538e-03, -1.8200e-01,  ..., -2.7982e-02,\n",
       "           1.0435e-02,  4.8914e-02]]], grad_fn=<ViewBackward0>)"
      ]
     },
     "execution_count": 62,
     "metadata": {},
     "output_type": "execute_result"
    }
   ],
   "source": [
    "output"
   ]
  },
  {
   "cell_type": "markdown",
   "metadata": {},
   "source": [
    "# Class"
   ]
  },
  {
   "cell_type": "code",
   "execution_count": 68,
   "metadata": {},
   "outputs": [],
   "source": [
    "import torch\n",
    "import torch.nn as nn\n",
    "import math\n",
    "\n",
    "def scaled_dot_product(q, k, v, mask=None):\n",
    "    d_k = q.size()[-1]\n",
    "    scaled = torch.matmul(q, k.transpose(-1, -2)) / math.sqrt(d_k)\n",
    "    if mask is not None:\n",
    "        scaled += mask\n",
    "    attention = F.softmax(scaled, dim=-1)\n",
    "    values = torch.matmul(attention, v)\n",
    "    return values, attention\n",
    "\n",
    "class MultiheadAttention(nn.Module):\n",
    "\n",
    "    def __init__(self, input_dim, d_model, num_heads):\n",
    "        super().__init__()\n",
    "        self.input_dim = input_dim\n",
    "        self.d_model = d_model\n",
    "        self.num_heads = num_heads\n",
    "        self.head_dim = d_model // num_heads\n",
    "        self.qkv_layer = nn.Linear(input_dim , 3 * d_model)\n",
    "        self.linear_layer = nn.Linear(d_model, d_model)\n",
    "\n",
    "    def forward(self, x, mask=None):\n",
    "        batch_size, sequence_length, input_dim = x.size()\n",
    "        print(f\"x.size(): {x.size()}\", end='\\n\\n')\n",
    "\n",
    "        qkv = self.qkv_layer(x)\n",
    "        print(f\"qkv.size(): {qkv.size()}\", end='\\n\\n')\n",
    "\n",
    "        qkv = qkv.reshape(batch_size, sequence_length, self.num_heads, 3 * self.head_dim)\n",
    "        print(f\"qkv.size(): {qkv.size()}\", end='\\n\\n')\n",
    "\n",
    "        qkv = qkv.permute(0, 2, 1, 3)\n",
    "        print(f\"qkv.size(): {qkv.size()}\", end='\\n\\n')\n",
    "\n",
    "        q, k, v = qkv.chunk(3, dim=-1)\n",
    "        print(f\"q size: {q.size()}, k size: {k.size()}, v size: {v.size()}\", end='\\n\\n')\n",
    "        values, attention = scaled_dot_product(q, k, v, mask)\n",
    "\n",
    "        print(f\"values.size(): {values.size()}, attention.size:{ attention.size()} \", end='\\n\\n')\n",
    "\n",
    "        values = values.reshape(batch_size, sequence_length, self.num_heads * self.head_dim)\n",
    "        print(f\"values.size(): {values.size()}\", end='\\n\\n')\n",
    "\n",
    "        out = self.linear_layer(values)\n",
    "        print(f\"out.size(): {out.size()}\", end='\\n\\n')\n",
    "\n",
    "        return out"
   ]
  },
  {
   "cell_type": "markdown",
   "metadata": {},
   "source": [
    "### Input"
   ]
  },
  {
   "cell_type": "code",
   "execution_count": 69,
   "metadata": {},
   "outputs": [
    {
     "name": "stdout",
     "output_type": "stream",
     "text": [
      "x.size(): torch.Size([8, 128, 1024])\n",
      "\n",
      "qkv.size(): torch.Size([8, 128, 1536])\n",
      "\n",
      "qkv.size(): torch.Size([8, 128, 8, 192])\n",
      "\n",
      "qkv.size(): torch.Size([8, 8, 128, 192])\n",
      "\n",
      "q size: torch.Size([8, 8, 128, 64]), k size: torch.Size([8, 8, 128, 64]), v size: torch.Size([8, 8, 128, 64])\n",
      "\n",
      "values.size(): torch.Size([8, 8, 128, 64]), attention.size:torch.Size([8, 8, 128, 128]) \n",
      "\n",
      "values.size(): torch.Size([8, 128, 512])\n",
      "\n",
      "out.size(): torch.Size([8, 128, 512])\n",
      "\n"
     ]
    }
   ],
   "source": [
    "input_dim = 1024\n",
    "d_model = 512\n",
    "num_heads = 8\n",
    "\n",
    "batch_size = 8\n",
    "\n",
    "sequence_length = 128\n",
    "x = torch.randn( (batch_size, sequence_length, input_dim) )\n",
    "\n",
    "model = MultiheadAttention(input_dim, d_model, num_heads)\n",
    "out = model.forward(x)"
   ]
  },
  {
   "cell_type": "code",
   "execution_count": null,
   "metadata": {},
   "outputs": [],
   "source": []
  }
 ],
 "metadata": {
  "kernelspec": {
   "display_name": "pytorch2.3",
   "language": "python",
   "name": "python3"
  },
  "language_info": {
   "codemirror_mode": {
    "name": "ipython",
    "version": 3
   },
   "file_extension": ".py",
   "mimetype": "text/x-python",
   "name": "python",
   "nbconvert_exporter": "python",
   "pygments_lexer": "ipython3",
   "version": "3.11.0"
  }
 },
 "nbformat": 4,
 "nbformat_minor": 2
}
