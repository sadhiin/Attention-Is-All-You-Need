{
 "cells": [
  {
   "cell_type": "code",
   "execution_count": 1,
   "metadata": {},
   "outputs": [],
   "source": [
    "import torch\n",
    "import torch.nn as nn"
   ]
  },
  {
   "cell_type": "code",
   "execution_count": 2,
   "metadata": {},
   "outputs": [
    {
     "data": {
      "text/plain": [
       "torch.Size([2, 1, 3])"
      ]
     },
     "execution_count": 2,
     "metadata": {},
     "output_type": "execute_result"
    }
   ],
   "source": [
    "inputs = torch.Tensor([[[0.2, 0.1, 0.3], [0.5, 0.1, 0.1]]])\n",
    "B, S, E = inputs.size()\n",
    "\n",
    "inputs = inputs.reshape(S, B, E)\n",
    "inputs.shape # num_words, batch_size, embedding_size"
   ]
  },
  {
   "cell_type": "code",
   "execution_count": 3,
   "metadata": {},
   "outputs": [],
   "source": [
    "parameter_shape = inputs.shape[-2:]\n",
    "gamma = nn.Parameter(torch.ones(parameter_shape))\n",
    "beta = nn.Parameter(torch.zeros(parameter_shape))"
   ]
  },
  {
   "cell_type": "code",
   "execution_count": 4,
   "metadata": {},
   "outputs": [
    {
     "data": {
      "text/plain": [
       "(torch.Size([1, 3]), torch.Size([1, 3]))"
      ]
     },
     "execution_count": 4,
     "metadata": {},
     "output_type": "execute_result"
    }
   ],
   "source": [
    "gamma.shape, beta.shape"
   ]
  },
  {
   "cell_type": "code",
   "execution_count": 5,
   "metadata": {},
   "outputs": [
    {
     "data": {
      "text/plain": [
       "[-1, -2]"
      ]
     },
     "execution_count": 5,
     "metadata": {},
     "output_type": "execute_result"
    }
   ],
   "source": [
    "dims = [-(i+1) for i in range(len(parameter_shape))]\n",
    "dims"
   ]
  },
  {
   "cell_type": "code",
   "execution_count": 23,
   "metadata": {},
   "outputs": [
    {
     "data": {
      "text/plain": [
       "torch.Size([1, 3])"
      ]
     },
     "execution_count": 23,
     "metadata": {},
     "output_type": "execute_result"
    }
   ],
   "source": [
    "parameter_shape"
   ]
  },
  {
   "cell_type": "code",
   "execution_count": 6,
   "metadata": {},
   "outputs": [
    {
     "data": {
      "text/plain": [
       "torch.Size([2, 1, 1])"
      ]
     },
     "execution_count": 6,
     "metadata": {},
     "output_type": "execute_result"
    }
   ],
   "source": [
    "mean = inputs.mean(dims, keepdim=True)\n",
    "mean.shape"
   ]
  },
  {
   "cell_type": "code",
   "execution_count": 7,
   "metadata": {},
   "outputs": [
    {
     "data": {
      "text/plain": [
       "tensor([[[0.0817]],\n",
       "\n",
       "        [[0.1886]]])"
      ]
     },
     "execution_count": 7,
     "metadata": {},
     "output_type": "execute_result"
    }
   ],
   "source": [
    "vari = ((inputs-mean)**2).mean(dims, keepdim=True)\n",
    "epsilon = 1e-5\n",
    "std = (vari + epsilon).sqrt()\n",
    "std"
   ]
  },
  {
   "cell_type": "code",
   "execution_count": 8,
   "metadata": {},
   "outputs": [
    {
     "data": {
      "text/plain": [
       "tensor([[[ 0.0000, -1.2238,  1.2238]],\n",
       "\n",
       "        [[ 1.4140, -0.7070, -0.7070]]])"
      ]
     },
     "execution_count": 8,
     "metadata": {},
     "output_type": "execute_result"
    }
   ],
   "source": [
    "y = (inputs-mean) / std\n",
    "y"
   ]
  },
  {
   "cell_type": "code",
   "execution_count": 9,
   "metadata": {},
   "outputs": [
    {
     "data": {
      "text/plain": [
       "tensor([[[ 0.0000, -1.2238,  1.2238]],\n",
       "\n",
       "        [[ 1.4140, -0.7070, -0.7070]]], grad_fn=<AddBackward0>)"
      ]
     },
     "execution_count": 9,
     "metadata": {},
     "output_type": "execute_result"
    }
   ],
   "source": [
    "out = gamma * y + beta\n",
    "out"
   ]
  },
  {
   "cell_type": "markdown",
   "metadata": {},
   "source": [
    "# Layer Normalization Class"
   ]
  },
  {
   "cell_type": "code",
   "execution_count": 24,
   "metadata": {},
   "outputs": [],
   "source": [
    "class LayerNormalization(nn.Module):\n",
    "    def __init__(self, hidden_size, eps=1e-5):\n",
    "        super(LayerNormalization, self).__init__()\n",
    "        self.hidden_size = hidden_size\n",
    "        self.gamma = nn.Parameter(torch.ones(hidden_size))\n",
    "        self.beta = nn.Parameter(torch.zeros(hidden_size))\n",
    "        self.eps = eps\n",
    "\n",
    "    def forward(self, x):\n",
    "        dim = [-(i+1) for i in range(len(self.hidden_size))]\n",
    "        print('Dim: ', dim)\n",
    "\n",
    "        mean = x.mean(dim=dim, keepdim=True)\n",
    "        print(f\"Mean\\n ({mean.shape}): \\n{mean}\")\n",
    "\n",
    "        var = ((x - mean) ** 2).mean(dim=dim, keepdim=True)\n",
    "        std = (var + self.eps).sqrt()\n",
    "        print(f\"Standerd Deviation\\n ({var.shape}): \\n{var}\")\n",
    "        y = (x - mean) / std\n",
    "\n",
    "        return self.gamma * y + self.beta"
   ]
  },
  {
   "cell_type": "code",
   "execution_count": 25,
   "metadata": {},
   "outputs": [
    {
     "name": "stdout",
     "output_type": "stream",
     "text": [
      "input_tensor.shape[-2:] --> torch.Size([3, 8])\n",
      "Dim:  [-1, -2]\n",
      "Mean\n",
      " (torch.Size([5, 1, 1])): \n",
      "tensor([[[ 0.0224]],\n",
      "\n",
      "        [[ 0.1338]],\n",
      "\n",
      "        [[-0.2999]],\n",
      "\n",
      "        [[ 0.5752]],\n",
      "\n",
      "        [[-0.3409]]])\n",
      "Standerd Deviation\n",
      " (torch.Size([5, 1, 1])): \n",
      "tensor([[[0.7733]],\n",
      "\n",
      "        [[0.9201]],\n",
      "\n",
      "        [[1.5157]],\n",
      "\n",
      "        [[1.0057]],\n",
      "\n",
      "        [[0.8369]]])\n"
     ]
    },
    {
     "data": {
      "text/plain": [
       "tensor([[[ 1.3838, -1.6031, -0.5537,  0.0748, -0.4604, -1.7306,  1.0826,\n",
       "           0.6129],\n",
       "         [ 0.4923,  2.0879, -0.3854, -0.5606,  0.4960,  0.0489,  0.5850,\n",
       "          -1.8244],\n",
       "         [ 0.0331,  0.3365, -0.0289,  0.8907, -1.0897,  0.3105,  1.1760,\n",
       "          -1.3743]],\n",
       "\n",
       "        [[-0.0053,  0.7428,  0.0361, -1.8225, -0.6666,  1.4805,  0.2582,\n",
       "           0.6601],\n",
       "         [-1.8962,  1.5772, -0.1669, -0.6593, -0.4069,  0.9902,  0.6890,\n",
       "           0.9179],\n",
       "         [ 0.1525, -1.3686,  0.3098, -1.8551, -0.8267,  1.3058,  0.3051,\n",
       "           0.2490]],\n",
       "\n",
       "        [[ 0.1462, -0.6165,  2.3118, -0.9694, -1.5421,  1.3778, -0.0656,\n",
       "          -1.1791],\n",
       "         [-1.3477,  1.1242, -0.7854,  0.2151,  0.0560,  0.1809, -0.2846,\n",
       "           0.7513],\n",
       "         [-0.7121, -0.2379,  0.8543,  0.6686,  0.1919, -1.9130,  1.2085,\n",
       "           0.5668]],\n",
       "\n",
       "        [[ 0.3522,  2.5047, -0.0721,  0.7945, -0.4462, -0.6950,  0.3473,\n",
       "          -0.2804],\n",
       "         [-1.1647,  1.2981,  1.4910,  1.3706, -1.0406, -0.0195, -0.8340,\n",
       "          -0.7186],\n",
       "         [-1.7299,  0.6821, -0.0672, -0.1554,  0.5756, -0.4659, -1.6119,\n",
       "          -0.1148]],\n",
       "\n",
       "        [[-0.1767,  0.9177, -0.5523, -0.0460,  1.4075, -0.5331, -2.1555,\n",
       "           1.6199],\n",
       "         [-1.0880,  1.1921,  0.6684,  0.6334,  0.2002, -1.5591, -0.4192,\n",
       "           0.5089],\n",
       "         [-1.1739, -1.2066, -0.8176, -0.3361,  0.8913,  0.9247,  1.2764,\n",
       "          -0.1764]]], grad_fn=<AddBackward0>)"
      ]
     },
     "execution_count": 25,
     "metadata": {},
     "output_type": "execute_result"
    }
   ],
   "source": [
    "batch_size = 3\n",
    "sentence_length = 5\n",
    "embedding_dim = 8\n",
    "\n",
    "input_tensor = torch.randn(sentence_length, batch_size, embedding_dim)\n",
    "print('input_tensor.shape[-2:] -->', input_tensor.shape[-2:])\n",
    "ln = LayerNormalization(input_tensor.shape[-2:])\n",
    "output = ln.forward(input_tensor)\n",
    "output"
   ]
  },
  {
   "cell_type": "code",
   "execution_count": null,
   "metadata": {},
   "outputs": [],
   "source": []
  }
 ],
 "metadata": {
  "kernelspec": {
   "display_name": "pytorch2.3",
   "language": "python",
   "name": "python3"
  },
  "language_info": {
   "codemirror_mode": {
    "name": "ipython",
    "version": 3
   },
   "file_extension": ".py",
   "mimetype": "text/x-python",
   "name": "python",
   "nbconvert_exporter": "python",
   "pygments_lexer": "ipython3",
   "version": "3.11.0"
  }
 },
 "nbformat": 4,
 "nbformat_minor": 2
}
